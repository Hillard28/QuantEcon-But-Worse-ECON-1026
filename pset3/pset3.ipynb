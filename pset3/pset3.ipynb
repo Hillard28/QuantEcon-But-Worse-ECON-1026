{
 "cells": [
  {
   "cell_type": "markdown",
   "metadata": {},
   "source": [
    "**Load libraries**"
   ]
  },
  {
   "cell_type": "code",
   "execution_count": 1,
   "metadata": {},
   "outputs": [],
   "source": [
    "import LinearAlgebra as linalg\n",
    "import Statistics as stats\n",
    "import Distributions as dist\n",
    "import Random as random\n",
    "import Plots as plt\n",
    "\n",
    "random.seed!(42)\n",
    ";"
   ]
  },
  {
   "cell_type": "markdown",
   "metadata": {},
   "source": [
    "**Utility functions**"
   ]
  },
  {
   "cell_type": "code",
   "execution_count": 2,
   "metadata": {},
   "outputs": [],
   "source": [
    "function plot_series(y; ylim, display=true)\n",
    "    x = range(0, length(y)-1, length=length(y))\n",
    "    series_plot = plt.plot(x, y; ylims=(-ylim, ylim))\n",
    "    if display\n",
    "        plt.display(series_plot)\n",
    "    end\n",
    "end\n",
    "\n",
    "function plot_histogram(y; bins=:auto, display=true)\n",
    "    histogram_plot = plt.histogram(y, bins=bins)\n",
    "    if display\n",
    "        plt.display(histogram_plot)\n",
    "    end\n",
    "end\n",
    "\n",
    "function print_theta(theta, N)\n",
    "    for i = 1:N\n",
    "        println(round.(theta[(i-1)*N+1:i*N], digits=3))\n",
    "    end\n",
    "end\n",
    ";"
   ]
  },
  {
   "cell_type": "markdown",
   "metadata": {},
   "source": [
    "We have that $w_t = \\bar{w} + \\rho w_{t-1} + \\epsilon_{t}$. Thus $E(w_t) = E(\\bar{w} + \\rho w_{t-1} + \\epsilon_{t}) = \\bar{w} + \\rho E(w_{t-1})$. We can recursively define $E(w_{t}) = \\sum_{j=0}^{t} \\rho^{j}\\bar{w}$ and as $t \\rightarrow \\infty$, $E(w_{t}) = \\frac{\\bar{w}}{1 - \\rho}$. We can then define\n",
    "\n",
    "\\begin{align*}\n",
    "Var(w_t) &= E((w_t - E(w_t))(w_t - E(w_t))') \\\\\n",
    "&= E(w_t w_t' - w_t E(w_t)' - E(w_t) w_t' + E(w_t)E(w_t)') \\\\\n",
    "&= E(w_t w_t') - E(w_t)E(w_t)' \\\\\n",
    "&= E((\\bar{w} + \\rho w_{t-1} + \\epsilon_t)(\\bar{w} + \\rho w_{t-1} + \\epsilon_t)') - \\frac{\\bar{w}^2}{(1 - \\rho)^2} \\\\\n",
    "&= E(\\bar{w}\\bar{w}' + \\rho^2 w_{t-1}w_{t-1}' + \\epsilon_t \\epsilon_t' + \\rho\\bar{w} w_{t-1}' + \\bar{w}\\epsilon_t' + \\rho w_{t-1}\\bar{w} + \\rho w_{t-1}\\epsilon_t' + \\epsilon_t\\bar{w} + \\rho \\epsilon_t w_{t-1}') - \\frac{\\bar{w}^2}{(1 - \\rho)^2} \\\\\n",
    "&= \\bar{w}^2 + \\rho^2 E(w_{t-1} w_{t-1}') + \\sigma_{e}^{2} + \\rho\\bar{w} E(w_{t-1}') + \\rho E(w_{t-1})\\bar{w} - \\frac{\\bar{w}^2}{(1 - \\rho)^2} \\\\\n",
    "&= \\bar{w}^2 + \\rho^2 E(w_{t-1} w_{t-1}') + \\sigma_{e}^{2} + 2 \\rho\\bar{w}\\frac{\\bar{w}}{1 - \\rho} - \\frac{\\bar{w}^2}{(1 - \\rho)^2} \\\\\n",
    "&= \\rho^2 E(w_{t-1} w_{t-1}') + \\sigma_{e}^{2} + \\frac{(1 + \\rho)\\bar{w}}{1 - \\rho} - \\frac{\\bar{w}^2}{(1 - \\rho)^2}\n",
    "\\end{align*}\n",
    "\n",
    "and we can use the form $E(w_t w_t') = \\rho^2 E(w_{t-1} w_{t-1}') + \\sigma_{e}^{2} + \\frac{(1 + \\rho)\\bar{w}}{1 - \\rho}$ to recursively solve for the RHS equation.\n",
    "\n",
    "This is an AR(1) process and so we have the mean to be $E(w_t) = \\frac{\\bar{w}}{1- \\rho}$ and the variance to be $\\sigma_{\\epsilon}^{2}/1-\\rho$. \n",
    "\n",
    "The income process is "
   ]
  },
  {
   "cell_type": "markdown",
   "metadata": {},
   "source": [
    "**Theoretical moments**"
   ]
  },
  {
   "cell_type": "code",
   "execution_count": 3,
   "metadata": {},
   "outputs": [],
   "source": [
    "vₑ = 0.06\n",
    "σₑ = sqrt(vₑ)\n",
    "μₑ = 0\n",
    "Dₑ = dist.Normal(μₑ, σₑ)\n",
    "\n",
    "ρ = 0.90\n",
    "w̄ = -vₑ / (2*(1 + ρ))\n",
    "\n",
    "tmean = w̄ / (1 - ρ)\n",
    "tvar = vₑ / (1 - ρ^2)\n",
    "\n",
    "# For when we adjust ρ\n",
    "vₑ98 = (1 - 0.98^2) * tvar\n",
    "σₑ98 = sqrt(vₑ98)\n",
    "Dₑ98 = dist.Normal(μₑ, σₑ98)\n",
    "w̄98 = -vₑ98 / (2*(1 + 0.98))\n",
    "tmean98 = w̄98 / (1 - 0.98)\n",
    "tvar98 = vₑ98 / (1 - 0.98^2)\n",
    ";"
   ]
  },
  {
   "cell_type": "markdown",
   "metadata": {},
   "source": [
    "**Discretization and simulation functions**"
   ]
  },
  {
   "cell_type": "code",
   "execution_count": 4,
   "metadata": {},
   "outputs": [],
   "source": [
    "mutable struct MarkovChain\n",
    "    theta::Array{Float64}\n",
    "    states::Array{Float64}\n",
    "    mean::Union{Float64, Missing}\n",
    "    var::Union{Float64, Missing}\n",
    "    std::Union{Float64, Missing}\n",
    "end\n",
    "\n",
    "function simulate!(markovchain, periods=1000, burn=0, replications=0; random_state)\n",
    "    if random_state >= 0\n",
    "        random.seed!(random_state)\n",
    "    end\n",
    "    N = length(markovchain.states)\n",
    "    \n",
    "    # Configure CDF\n",
    "    Θ = Array{dist.Categorical{Float64, Vector{Float64}}}(undef, N)\n",
    "    for i = 1:N\n",
    "        Θ[i] = dist.Categorical(markovchain.theta[(i-1)*N+1:i*N])\n",
    "    end\n",
    "\n",
    "    # Initialize index of realized states and run burn-in\n",
    "    index_series = Array{Int64}(undef, periods)\n",
    "    index_series[1] = rand(1:N)\n",
    "    if burn > 0\n",
    "        for _ = 1:burn\n",
    "            index_series[1] = dist.rand(Θ[index_series[1]], 1)[1]\n",
    "        end\n",
    "    end\n",
    "\n",
    "    # Run simulation\n",
    "    for t = 2:periods\n",
    "        index_series[t] = dist.rand(Θ[index_series[t-1]], 1)[1]\n",
    "    end\n",
    "    \n",
    "    state_series = Array{Float64}(undef, periods)\n",
    "    for t = 1:periods\n",
    "        state_series[t] = markovchain.states[index_series[t]]\n",
    "    end\n",
    "\n",
    "    markovchain.mean = stats.mean(state_series)\n",
    "    markovchain.var = stats.var(state_series)\n",
    "    markovchain.std = stats.std(state_series)\n",
    "\n",
    "    # If replication is specified, rerun simulation and take average of moments\n",
    "    if replications > 0\n",
    "        for replication = 1:replications\n",
    "            index_series[1] = rand(1:N)\n",
    "            if burn > 0\n",
    "                for _ = 1:burn\n",
    "                    index_series[1] = dist.rand(Θ[index_series[1]], 1)[1]\n",
    "                end\n",
    "            end\n",
    "\n",
    "            for t = 2:periods\n",
    "                index_series[t] = dist.rand(Θ[index_series[t-1]], 1)[1]\n",
    "            end\n",
    "            \n",
    "            for t = 1:periods\n",
    "                state_series[t] = markovchain.states[index_series[t]]\n",
    "            end\n",
    "\n",
    "            markovchain.mean += stats.mean(state_series)\n",
    "            markovchain.var += stats.var(state_series)\n",
    "            markovchain.std += stats.std(state_series)\n",
    "        end\n",
    "        markovchain.mean /= (replications + 1)\n",
    "        markovchain.var /= (replications + 1)\n",
    "        markovchain.std /= (replications + 1)\n",
    "    end\n",
    "\n",
    "    return state_series\n",
    "end\n",
    ";"
   ]
  },
  {
   "cell_type": "code",
   "execution_count": 5,
   "metadata": {},
   "outputs": [],
   "source": [
    "function tauchen(\n",
    "    mean,\n",
    "    variance,\n",
    "    N,\n",
    "    m,\n",
    "    rho;\n",
    "    print_output=false\n",
    "    )\n",
    "    σ = sqrt(variance)\n",
    "    v = variance\n",
    "    μ = mean\n",
    "    states = Array{Float64}(undef, N)\n",
    "    states[N] = m*sqrt(v / (1 - rho^2))\n",
    "    states[1] = -states[N]\n",
    "    if print_output\n",
    "        println(\"States:\")\n",
    "        println(states[1])\n",
    "    end\n",
    "    d = (states[N] - states[1])/(N - 1)\n",
    "    for i = 2:N-1\n",
    "        states[i] = states[1] + (i - 1)*d\n",
    "        if print_output\n",
    "            println(states[i])\n",
    "        end\n",
    "    end\n",
    "    if print_output\n",
    "        println(states[N])\n",
    "    end\n",
    "    \n",
    "    # Standard normal distribution for the normalized states\n",
    "    D = dist.Normal(0, 1)\n",
    "    \n",
    "    # Transition matrix\n",
    "    Θ = Array{Float64}(undef, N^2)\n",
    "    for i = 1:N\n",
    "        for j = 1:N\n",
    "            if j == 1\n",
    "                Θ[(i-1)*N + j] = dist.cdf(D, (states[j] + d/2 - rho*states[i])/σ)\n",
    "            elseif j == N\n",
    "                Θ[(i-1)*N + j] = 1 - dist.cdf(D, (states[j] - d/2 - rho*states[i])/σ)\n",
    "            else\n",
    "                Θ[(i-1)*N + j] = dist.cdf(D, (states[j] + d/2 - rho*states[i])/σ) -\n",
    "                    dist.cdf(D, (states[j] - d/2 - rho*states[i])/σ)\n",
    "            end\n",
    "        end\n",
    "    end\n",
    "    \n",
    "    if print_output\n",
    "        println(\"Θ:\")\n",
    "        for i = 1:N\n",
    "            println(round.(Θ[(i-1)*N+1:i*N], digits=3))\n",
    "        end\n",
    "    end\n",
    "    \n",
    "    states .+= μ / (1 - rho)\n",
    "\n",
    "    return MarkovChain(Θ, states, missing, missing, missing)\n",
    "end\n",
    "\n",
    "function rouwenhorst(\n",
    "    mean,\n",
    "    variance,\n",
    "    N,\n",
    "    rho;\n",
    "    print_output=false\n",
    "    )\n",
    "    v = variance\n",
    "    μ = mean\n",
    "\n",
    "    ψ = sqrt(v / (1 - rho^2)) * sqrt(N - 1)\n",
    "\n",
    "    states = Array{Float64}(undef, N)\n",
    "    states[N] = ψ\n",
    "    states[1] = -ψ\n",
    "    if print_output\n",
    "        println(\"States:\")\n",
    "        println(states[1])\n",
    "    end\n",
    "    d = (states[N] - states[1])/(N - 1)\n",
    "    for i = 2:N-1\n",
    "        states[i] = states[1] + (i - 1)*d\n",
    "        if print_output\n",
    "            println(states[i])\n",
    "        end\n",
    "    end\n",
    "    if print_output\n",
    "        println(states[N])\n",
    "    end\n",
    "\n",
    "    p = (1 + rho) / 2\n",
    "    q = p\n",
    "    \n",
    "    # Transition matrix\n",
    "    Θₙ = Array{Float64}(undef, 4)\n",
    "    Θₙ[1] = p\n",
    "    Θₙ[2] = 1 - p\n",
    "    Θₙ[3] = 1 - q\n",
    "    Θₙ[4] = q\n",
    "    Θ = Θₙ\n",
    "    if N > 2\n",
    "        global Θ\n",
    "        global Θₙ\n",
    "        for n = 3:N\n",
    "            global Θ\n",
    "            global Θₙ\n",
    "            Θ = zeros(n^2)\n",
    "            for i = 1:n\n",
    "                for j = 1:n\n",
    "                    if i <= n-1 && j <= n-1\n",
    "                        Θ[(i-1)*n + j] += p*Θₙ[(i-1)*(n-1) + j]\n",
    "                    end\n",
    "                    if i <= n-1 && j >= 2\n",
    "                        Θ[(i-1)*n + j] += (1 - p)*Θₙ[(i-1)*(n-1) + (j-1)]\n",
    "                    end\n",
    "                    if i >= 2 && j <= n-1\n",
    "                        Θ[(i-1)*n + j] += (1 - q)*Θₙ[(i-2)*(n-1) + j]\n",
    "                    end\n",
    "                    if i >= 2 && j >= 2\n",
    "                        Θ[(i-1)*n + j] += q*Θₙ[(i-2)*(n-1) + (j-1)]\n",
    "                    end\n",
    "                end\n",
    "            end\n",
    "            for i = 2:n-1\n",
    "                for j = 1:n\n",
    "                    Θ[(i-1)*n + j] /= 2\n",
    "                end\n",
    "            end\n",
    "            Θₙ = Θ\n",
    "        end\n",
    "    end\n",
    "    \n",
    "    if print_output\n",
    "        println(\"Θ:\")\n",
    "        for i = 1:N\n",
    "            println(round.(Θ[(i-1)*N+1:i*N], digits=3))\n",
    "        end\n",
    "    end\n",
    "\n",
    "    states .+= μ / (1 - rho)\n",
    "    \n",
    "    return MarkovChain(Θ, states, missing, missing, missing)\n",
    "end\n",
    ";"
   ]
  },
  {
   "cell_type": "markdown",
   "metadata": {},
   "source": [
    "**Problem 1A**"
   ]
  },
  {
   "cell_type": "code",
   "execution_count": 6,
   "metadata": {},
   "outputs": [
    {
     "name": "stdout",
     "output_type": "stream",
     "text": [
      "Problem 1a)\n",
      "Sample moments (T5):\n",
      "Mean: -0.158\n",
      "Variance: 0.508\n",
      "\n",
      "Theoretical moments:\n",
      "Mean: -0.158\n",
      "Variance: 0.316\n"
     ]
    }
   ],
   "source": [
    "println(\"Problem 1a)\")\n",
    "markov = tauchen(w̄, vₑ, 5, 3, 0.9; print_output=false)\n",
    "yts5 = simulate!(markov, 10000, 1000, 100; random_state=42)\n",
    "println(\"Sample moments (T5):\")\n",
    "println(\"Mean: \", round(markov.mean, digits=3))\n",
    "println(\"Variance: \", round(markov.var, digits=3))\n",
    "println(\"\\nTheoretical moments:\")\n",
    "println(\"Mean: \", round(tmean, digits=3))\n",
    "println(\"Variance: \", round(tvar, digits=3))"
   ]
  },
  {
   "cell_type": "markdown",
   "metadata": {},
   "source": [
    "We see that xyz"
   ]
  },
  {
   "cell_type": "markdown",
   "metadata": {},
   "source": [
    "**Problem 1B**"
   ]
  },
  {
   "cell_type": "code",
   "execution_count": 7,
   "metadata": {},
   "outputs": [
    {
     "name": "stdout",
     "output_type": "stream",
     "text": [
      "Problem 1b)\n",
      "Sample moments (T11):\n",
      "Mean: -0.156\n",
      "Variance: 0.358\n",
      "\n",
      "Theoretical moments:\n",
      "Mean: -0.158\n",
      "Variance: 0.316\n"
     ]
    }
   ],
   "source": [
    "println(\"Problem 1b)\")\n",
    "markov = tauchen(w̄, vₑ, 11, 3, 0.9; print_output=false)\n",
    "yts11 = simulate!(markov, 10000, 1000, 100; random_state=42)\n",
    "println(\"Sample moments (T11):\")\n",
    "println(\"Mean: \", round(markov.mean, digits=3))\n",
    "println(\"Variance: \", round(markov.var, digits=3))\n",
    "println(\"\\nTheoretical moments:\")\n",
    "println(\"Mean: \", round(tmean, digits=3))\n",
    "println(\"Variance: \", round(tvar, digits=3))"
   ]
  },
  {
   "cell_type": "markdown",
   "metadata": {},
   "source": [
    "We see that xyz"
   ]
  },
  {
   "cell_type": "markdown",
   "metadata": {},
   "source": [
    "**Problem 1C**"
   ]
  },
  {
   "cell_type": "code",
   "execution_count": 8,
   "metadata": {},
   "outputs": [
    {
     "name": "stdout",
     "output_type": "stream",
     "text": [
      "Problem 1c)\n",
      "Sample moments (R5):\n",
      "Mean: -0.161\n",
      "Variance: 0.315\n",
      "\n",
      "Sample moments (T5):\n",
      "Mean: -0.158\n",
      "Variance: 0.508\n",
      "\n",
      "Theoretical moments:\n",
      "Mean: -0.158\n",
      "Variance: 0.316\n"
     ]
    }
   ],
   "source": [
    "println(\"Problem 1c)\")\n",
    "markov = rouwenhorst(w̄, vₑ, 5, 0.9; print_output=false)\n",
    "yrs5 = simulate!(markov, 10000, 1000, 100; random_state=42)\n",
    "println(\"Sample moments (R5):\")\n",
    "println(\"Mean: \", round(markov.mean, digits=3))\n",
    "println(\"Variance: \", round(markov.var, digits=3))\n",
    "markov = tauchen(w̄, vₑ, 5, 3, 0.9; print_output=false)\n",
    "yts5 = simulate!(markov, 10000, 1000, 100; random_state=42)\n",
    "println(\"\\nSample moments (T5):\")\n",
    "println(\"Mean: \", round(markov.mean, digits=3))\n",
    "println(\"Variance: \", round(markov.var, digits=3))\n",
    "println(\"\\nTheoretical moments:\")\n",
    "println(\"Mean: \", round(tmean, digits=3))\n",
    "println(\"Variance: \", round(tvar, digits=3))"
   ]
  },
  {
   "cell_type": "markdown",
   "metadata": {},
   "source": [
    "We see that xyz"
   ]
  },
  {
   "cell_type": "markdown",
   "metadata": {},
   "source": [
    "**Problem 1D**"
   ]
  },
  {
   "cell_type": "code",
   "execution_count": 9,
   "metadata": {},
   "outputs": [
    {
     "name": "stdout",
     "output_type": "stream",
     "text": [
      "Problem 1d)\n",
      "Sample moments (T5, ρ=0.98):\n",
      "Mean: -0.252\n",
      "Variance: 0.199\n",
      "\n",
      "Sample moments (R5, ρ=0.98):\n",
      "Mean: -0.152\n",
      "Variance: 0.312\n",
      "\n",
      "Theoretical moments (ρ=0.98):\n",
      "Mean: -0.158\n",
      "Variance: 0.316\n"
     ]
    }
   ],
   "source": [
    "println(\"Problem 1d)\")\n",
    "markov = tauchen(w̄98, vₑ98, 5, 3, 0.98; print_output=false)\n",
    "yts5p = simulate!(markov, 10000, 1000, 100; random_state=42)\n",
    "println(\"Sample moments (T5, ρ=0.98):\")\n",
    "println(\"Mean: \", round(markov.mean, digits=3))\n",
    "println(\"Variance: \", round(markov.var, digits=3))\n",
    "markov = rouwenhorst(w̄98, vₑ98, 5, 0.98; print_output=false)\n",
    "yrs5p = simulate!(markov, 10000, 1000, 100; random_state=42)\n",
    "println(\"\\nSample moments (R5, ρ=0.98):\")\n",
    "println(\"Mean: \", round(markov.mean, digits=3))\n",
    "println(\"Variance: \", round(markov.var, digits=3))\n",
    "println(\"\\nTheoretical moments (ρ=0.98):\")\n",
    "println(\"Mean: \", round(tmean98, digits=3))\n",
    "println(\"Variance: \", round(tvar98, digits=3))"
   ]
  },
  {
   "cell_type": "markdown",
   "metadata": {},
   "source": [
    "**Problem 2**"
   ]
  },
  {
   "cell_type": "code",
   "execution_count": null,
   "metadata": {},
   "outputs": [],
   "source": [
    "##setting up the consumer Problem\n",
    "\n",
    "# Parameters\n",
    "r= 0.02 #interest rate\n",
    "β= 0.96 #discount rate \n",
    "γ= 2 #risk aversion\n",
    "φ= 0 #borrowing limit\n",
    "\n",
    "## asset grid setup \n",
    "asset_max= 20\n",
    "grid_size = 500\n",
    "\n",
    "agrid_par = 2 ##ν\n",
    "agrid = range(0,1,length=grid_size)\n",
    "agrid = agrid.^agrid_par\n",
    "agrid = .-φ .+ (amax.-borrow_lim).*agrid"
   ]
  },
  {
   "cell_type": "code",
   "execution_count": 11,
   "metadata": {},
   "outputs": [],
   "source": []
  }
 ],
 "metadata": {
  "kernelspec": {
   "display_name": "Julia 1.10.2",
   "language": "julia",
   "name": "julia-1.10"
  },
  "language_info": {
   "file_extension": ".jl",
   "mimetype": "application/julia",
   "name": "julia",
   "version": "1.10.2"
  }
 },
 "nbformat": 4,
 "nbformat_minor": 2
}
